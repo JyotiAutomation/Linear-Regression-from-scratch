{
 "cells": [
  {
   "cell_type": "code",
   "execution_count": 96,
   "metadata": {},
   "outputs": [],
   "source": [
    "import numpy as np\n",
    "from math import sqrt"
   ]
  },
  {
   "cell_type": "code",
   "execution_count": 97,
   "metadata": {},
   "outputs": [],
   "source": [
    "# Steps for linear regression\n",
    "# 1. calculate variance\n",
    "# 2. calculate covariance\n",
    "# 3. calculate coefficients B0 and B1\n",
    "# 4. predict value of yhat\n",
    "# 5. RMSE value calculation"
   ]
  },
  {
   "cell_type": "code",
   "execution_count": 98,
   "metadata": {},
   "outputs": [
    {
     "name": "stdout",
     "output_type": "stream",
     "text": [
      "mean of x  : 3.0\n",
      "variance   : 10.0\n",
      "covariance : 8.0\n",
      "B1 : 0.8\n",
      "B0 : 0.39999999999999947\n",
      "[1.1999999999999995, 1.9999999999999996, 3.5999999999999996, 2.8, 4.3999999999999995]\n",
      "======\n",
      "RMSE : 0.692820323027551\n",
      "YAYY DONE \n",
      "😄\n"
     ]
    }
   ],
   "source": [
    "\n",
    "data = [[1, 1], [2, 3], [4, 3], [3, 2], [5, 5]] \n",
    "X = [row[0] for row in data]\n",
    "Y = [row[1] for row in data]\n",
    "#print(X)\n",
    "x_mean = np.mean(X)\n",
    "y_mean = np.mean(Y)\n",
    "print(\"mean of x  :\", x_mean)\n",
    "\n",
    "# =========== calculate variance ================\n",
    "variance_x = 0\n",
    "for i in range(len(X)):\n",
    "    #print(X[i])\n",
    "    variance_x += (X[i] - x_mean)**2\n",
    "          \n",
    "print(\"variance   :\",variance_x)    \n",
    "\n",
    "\n",
    "# ========== calculate covariance ================\n",
    "covariance = 0\n",
    "for j in range(len(X)):    \n",
    "    covariance += ((X[j] - x_mean) * (Y[j] - y_mean) )\n",
    "\n",
    "print(\"covariance :\",covariance)   \n",
    "\n",
    "# ======== calculate coefficients B0 and B1 =====\n",
    "B1 = float(covariance / variance_x)\n",
    "B0 = y_mean - (B1 * x_mean)\n",
    "print(\"B1 :\", B1)\n",
    "print(\"B0 :\", B0)\n",
    "\n",
    "# ========== prediction =============\n",
    "ss= 0\n",
    "st =0\n",
    "pred = list()\n",
    "for k in range(len(Y)):\n",
    "    yh = B0 + (B1 * X[k])\n",
    "    pred.append(yh)\n",
    "    #ss += (Y[k] - y_mean)**2\n",
    "    #st += (Y[k] - yh)**2\n",
    "        \n",
    "print(pred) \n",
    "print(\"======\")\n",
    "\n",
    "# ======= RMSE value calculation: ============\n",
    "sum_error =0\n",
    "for i in range(len(Y)):\n",
    "    prediction_error = pred[i] - Y[i]\n",
    "    #print(prediction_error)\n",
    "    sum_error += (prediction_error ** 2)\n",
    "mean_error = sum_error / float(len(Y))\n",
    "R = sqrt(mean_error)\n",
    "\n",
    "print(\"RMSE :\",R)\n",
    "\n",
    "print(\"\\U0001F604\")"
   ]
  },
  {
   "cell_type": "code",
   "execution_count": null,
   "metadata": {},
   "outputs": [],
   "source": []
  },
  {
   "cell_type": "code",
   "execution_count": null,
   "metadata": {},
   "outputs": [],
   "source": []
  }
 ],
 "metadata": {
  "kernelspec": {
   "display_name": "Python 3",
   "language": "python",
   "name": "python3"
  },
  "language_info": {
   "codemirror_mode": {
    "name": "ipython",
    "version": 3
   },
   "file_extension": ".py",
   "mimetype": "text/x-python",
   "name": "python",
   "nbconvert_exporter": "python",
   "pygments_lexer": "ipython3",
   "version": "3.7.4"
  }
 },
 "nbformat": 4,
 "nbformat_minor": 2
}
